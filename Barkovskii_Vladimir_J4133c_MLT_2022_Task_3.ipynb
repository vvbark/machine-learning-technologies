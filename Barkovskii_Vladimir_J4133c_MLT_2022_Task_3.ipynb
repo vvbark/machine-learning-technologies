{
 "cells": [
  {
   "cell_type": "code",
   "execution_count": 1,
   "id": "4750d80f-4648-4e09-b4b2-28bb9708886c",
   "metadata": {},
   "outputs": [],
   "source": [
    "import numpy as np\n",
    "import matplotlib.pyplot as plt\n",
    "import scipy\n",
    "import pandas as pd\n",
    "from tqdm.notebook import tqdm\n",
    "from abc import ABC, abstractmethod\n",
    "import time, functools\n",
    "%matplotlib inline"
   ]
  },
  {
   "cell_type": "code",
   "execution_count": 13,
   "id": "84a065a9-5caf-4427-84ab-3d6636ded4ce",
   "metadata": {},
   "outputs": [],
   "source": [
    "class DataProcessing:\n",
    "    \n",
    "    def __init__(self, filepath):\n",
    "        self.dataframe = pd.read_csv(filepath)\n",
    "        \n",
    "    def permutate_data(self, seed):\n",
    "        np.random.seed(seed)\n",
    "        indx = np.random.permutation(self.dataframe.shape[0])\n",
    "        self.dataframe = self.dataframe.iloc[indx]\n",
    "        \n",
    "    def get_target(self, target_feature):\n",
    "        self.target = self.dataframe[target_feature]\n",
    "        self.features = self.dataframe.drop(columns=target_feature)\n",
    "        return self.features, self.target\n",
    "        \n",
    "    def split_data(self, test_part, target_feature, norm = False):\n",
    "        features, target = self.get_target(target_feature)\n",
    "        if norm == True:\n",
    "            features = (features - features.min()) / (features.max() - features.min())\n",
    "        val = int(self.dataframe.shape[0] * test_part)\n",
    "        return features[val : ].values, features[ : val].values, target[val : ].values, target[ : val].values\n",
    "        \n",
    "\n",
    "class LogisticRegression:\n",
    "    \n",
    "    def __init__(self, learning_rate=1e-2, num_iterations=1000, print_cost=False, optimizer='GD', **parameters):\n",
    "        self.lr = learning_rate\n",
    "        self.num_iterations = num_iterations\n",
    "        self.print_cost = print_cost\n",
    "        self.optimizer = optimizer\n",
    "        if parameters:\n",
    "            self.betas = parameters['betas']\n",
    "            self.epsilon = parameters['epsilon']\n",
    "        else:\n",
    "            self.betas = (0.9, 0.999)\n",
    "            self.epsilon = 1e-8\n",
    "    \n",
    "    @staticmethod\n",
    "    def sigmoid(z):\n",
    "        \"\"\"\n",
    "        Compute the sigmoid of z\n",
    "\n",
    "        Arguments:\n",
    "        z -- A scalar or numpy array of any size.\n",
    "\n",
    "        Return:\n",
    "        s -- sigmoid(z)\n",
    "        \"\"\"\n",
    "        s = 1. / (1. + np.exp(-z))\n",
    "        return s\n",
    "    \n",
    "    def initialize_with_zeros(self, dim):\n",
    "        \"\"\"\n",
    "        This function creates a vector of zeros of shape (dim, 1) for w and initializes b to 0.\n",
    "\n",
    "        Argument:\n",
    "        dim -- size of the w vector we want (or number of parameters in this case)\n",
    "\n",
    "        Returns:\n",
    "        w -- initialized vector of shape (dim, 1)\n",
    "        b -- initialized scalar (corresponds to the bias)\n",
    "        \"\"\"\n",
    "        self.w = np.zeros((dim))\n",
    "        self.b = 0.\n",
    "            \n",
    "    def propagate(self, X, Y):\n",
    "        \"\"\"\n",
    "        Implement the cost function and its gradient for the propagation explained above\n",
    "\n",
    "        Arguments:\n",
    "        w -- weights, a numpy array of size which equals the number of features\n",
    "        b -- bias, a scalar\n",
    "        X -- data \n",
    "        Y -- true \"label\" vector (containing 0 and 1) of size (1, number of examples)\n",
    "\n",
    "        Return:\n",
    "        cost -- negative log-likelihood cost for logistic regression\n",
    "        dw -- gradient of the loss with respect to w, thus same shape as w\n",
    "        db -- gradient of the loss with respect to b, thus same shape as b\n",
    "\n",
    "        \"\"\"\n",
    "        m = X.shape[1]\n",
    "        #print('number of objects = ',len(X))\n",
    "        # FORWARD PROPAGATION (FROM X TO COST)\n",
    "        A = self.sigmoid(np.dot(X, self.w) + self.b )    # compute activation\n",
    "        self.cost = -(1. / m) * np.sum(Y * np.log(A) + (1 - Y) * np.log(1 - A))   # compute cost\n",
    "\n",
    "        # BACKWARD PROPAGATION (TO FIND GRAD)\n",
    "        self.dw = (1. / m) * np.dot(X.T, (A - Y))\n",
    "        self.db = (1. / m) * np.sum(A - Y, axis = -1)\n",
    "        \n",
    "                \n",
    "    def fit(self, X, Y):\n",
    "        \"\"\"\n",
    "        This function optimizes w and b by running a gradient descent algorithm\n",
    "\n",
    "        Arguments:\n",
    "        w -- weights, a numpy array \n",
    "        b -- bias, a scalar\n",
    "        X -- data \n",
    "        Y -- true \"label\" vector (containing 0 and 1), of shape (1, number of examples)\n",
    "        num_iterations -- number of iterations of the optimization loop\n",
    "        learning_rate -- learning rate of the gradient descent update rule\n",
    "        print_cost -- True to print the loss every 100 steps\n",
    "\n",
    "        Returns:\n",
    "        params -- dictionary containing the weights w and bias b\n",
    "        grads -- dictionary containing the gradients of the weights and bias with respect to the cost function\n",
    "        costs -- list of all the costs computed during the optimization, this will be used to plot the learning curve.\n",
    "\n",
    "        \"\"\"\n",
    "\n",
    "        costs = []\n",
    "        first_moment_w = 0\n",
    "        second_moment_w = 0\n",
    "        first_moment_b = 0\n",
    "        second_moment_b = 0\n",
    "        for i in tqdm(range(self.num_iterations)):\n",
    "\n",
    "            # Cost and gradient calculation \n",
    "            self.propagate(X, Y)\n",
    "\n",
    "            if self.optimizer == 'GD':\n",
    "                self.w -= self.lr * self.dw\n",
    "                self.b -= self.lr * self.db\n",
    "                \n",
    "            elif self.optimizer == 'Adam':\n",
    "                first_moment_w = self.betas[0] * first_moment_w + (1 - self.betas[0]) * self.dw\n",
    "                second_moment_w = self.betas[1] * second_moment_w + (1 - self.betas[1]) * self.dw**2\n",
    "                first_moment_w_hat = first_moment_w / (1 - self.betas[0]**(i + 1))\n",
    "                second_moment_w_hat = second_moment_w / (1 - self.betas[1]**(i + 1))\n",
    "                \n",
    "                first_moment_b = self.betas[0] * first_moment_b + (1 - self.betas[0]) * self.db\n",
    "                second_moment_b = self.betas[1] * second_moment_b + (1 - self.betas[1]) * self.db**2\n",
    "                first_moment_b_hat = first_moment_b / (1 - self.betas[0]**(i + 1))\n",
    "                second_moment_b_hat = second_moment_b / (1 - self.betas[1]**(i + 1))\n",
    "\n",
    "                self.w -= self.lr * first_moment_w_hat / (np.sqrt(second_moment_w_hat) + self.epsilon)\n",
    "                self.b -= self.lr * first_moment_b_hat / (np.sqrt(second_moment_b_hat) + self.epsilon)                \n",
    "\n",
    "            # Record the costs\n",
    "            if i % 100 == 0:\n",
    "                costs.append(self.cost)\n",
    "\n",
    "            # Print the cost every 100 training iterations\n",
    "            if self.print_cost and i % 100 == 0:\n",
    "                print (\"Cost after iteration %i: %f\" %(i, self.cost))\n",
    "                \n",
    "        self.costs = costs\n",
    "        return None\n",
    "        \n",
    "    def predict(self, X):\n",
    "        '''\n",
    "        Predict whether the label is 0 or 1 using learned logistic regression parameters (w, b)\n",
    "\n",
    "        Arguments:\n",
    "        w -- weights, a numpy array \n",
    "        b -- bias, a scalar\n",
    "        X -- data \n",
    "\n",
    "        Returns:\n",
    "        Y_prediction -- a numpy array (vector) containing all predictions (0/1) for the examples in X\n",
    "        '''\n",
    "\n",
    "        Y_prediction = np.zeros((X.shape[0]))\n",
    "        # Compute vector \"A\" predicting the probabilities \n",
    "        A = self.sigmoid(np.dot(X, self.w) + self.b)\n",
    "\n",
    "        for i in range(A.shape[0]):\n",
    "            # Convert probabilities A[0,i] to actual predictions p[0,i]\n",
    "            if (A[i] <= 0.5):\n",
    "                \n",
    "                Y_prediction[i] = 0\n",
    "            else:\n",
    "                Y_prediction[i] = 1\n",
    "\n",
    "        return Y_prediction\n",
    "    \n",
    "    def fit_and_evaluate(self, X_train, Y_train, X_test, Y_test):\n",
    "        \"\"\"\n",
    "        Builds the logistic regression model by calling the function we've implemented previously\n",
    "\n",
    "        Arguments:\n",
    "        X_train -- training set represented by a numpy array \n",
    "        Y_train -- training labels represented by a numpy array (vector) of shape (1, m_train)\n",
    "        X_test -- test set represented by a numpy array \n",
    "        Y_test -- test labels represented by a numpy array (vector) of shape (1, m_test)\n",
    "        num_iterations -- hyperparameter representing the number of iterations to optimize the parameters\n",
    "        learning_rate -- hyperparameter representing the learning rate used in the update rule of optimize()\n",
    "        print_cost -- Set to true to print the cost every 100 iterations\n",
    "\n",
    "        Returns:\n",
    "        d -- dictionary containing information about the model.\n",
    "        \"\"\"\n",
    "\n",
    "        # initialize parameters with zeros \n",
    "        self.initialize_with_zeros(X_train.shape[1])\n",
    "\n",
    "        # Gradient descent\n",
    "        self.fit(X_train, Y_train)\n",
    "\n",
    "        # Predict test/train set examples\n",
    "        Y_prediction_test = self.predict(X_test)\n",
    "        Y_prediction_train = self.predict(X_train)\n",
    "\n",
    "        # Print train/test Errors\n",
    "        print(\"train accuracy: {} %\".format(100 - np.mean(np.abs(Y_prediction_train - Y_train)) * 100))\n",
    "        print(\"test accuracy: {} %\".format(100 - np.mean(np.abs(Y_prediction_test - Y_test)) * 100))\n",
    "\n",
    "        d = {\"costs\": self.costs,\n",
    "             \"Y_prediction_test\": Y_prediction_test, \n",
    "             \"Y_prediction_train\" : Y_prediction_train, \n",
    "             \"w\" : self.w, \n",
    "             \"b\" : self.b,\n",
    "             \"learning_rate\" : self.lr,\n",
    "             \"num_iterations\": self.num_iterations}\n",
    "\n",
    "        return d"
   ]
  },
  {
   "cell_type": "code",
   "execution_count": 14,
   "id": "92b07c2f-34f6-47e2-8ff7-cb2ddef88005",
   "metadata": {},
   "outputs": [],
   "source": [
    "processing = DataProcessing(filepath = './bioresponse.csv')\n",
    "processing.permutate_data(seed = 1000)\n",
    "x_train, x_test, y_train, y_test = processing.split_data(0.35, 'Activity', norm=True)"
   ]
  },
  {
   "cell_type": "markdown",
   "id": "6fd965c3-32ae-4762-8f6e-03dc2889bb47",
   "metadata": {},
   "source": [
    "## Training\n",
    "\n",
    "### Gradient Descent"
   ]
  },
  {
   "cell_type": "code",
   "execution_count": 23,
   "id": "b99eef65-386a-4bda-937d-f3503254e0fd",
   "metadata": {},
   "outputs": [
    {
     "data": {
      "application/vnd.jupyter.widget-view+json": {
       "model_id": "6217cd7c391b4fc68bb52e55dfea071f",
       "version_major": 2,
       "version_minor": 0
      },
      "text/plain": [
       "  0%|          | 0/2000 [00:00<?, ?it/s]"
      ]
     },
     "metadata": {},
     "output_type": "display_data"
    },
    {
     "name": "stdout",
     "output_type": "stream",
     "text": [
      "train accuracy: 82.98482984829849 %\n",
      "test accuracy: 75.9908536585366 %\n"
     ]
    },
    {
     "data": {
      "image/png": "[encoded data removed]",
      "text/plain": [
       "<Figure size 432x288 with 1 Axes>"
      ]
     },
     "metadata": {
      "needs_background": "light"
     },
     "output_type": "display_data"
    }
   ],
   "source": [
    "classifier = LogisticRegression(learning_rate=3e-2, num_iterations=2000, optimizer='GD')\n",
    "result = classifier.fit_and_evaluate(x_train, y_train, x_test, y_test)\n",
    "\n",
    "plt.title('Gradient Descent')\n",
    "plt.plot(result['costs'])\n",
    "plt.ylim(0, 1)\n",
    "plt.grid()\n",
    "plt.show()"
   ]
  },
  {
   "cell_type": "markdown",
   "id": "c5949b6b-7e26-4964-a7d8-3dc0f32f4777",
   "metadata": {},
   "source": [
    "### Adam"
   ]
  },
  {
   "cell_type": "code",
   "execution_count": 27,
   "id": "56846605-ff0d-4e9c-818f-629738faac0f",
   "metadata": {},
   "outputs": [
    {
     "data": {
      "application/vnd.jupyter.widget-view+json": {
       "model_id": "59d0e719e38343d3a7fd10babc236cf3",
       "version_major": 2,
       "version_minor": 0
      },
      "text/plain": [
       "  0%|          | 0/2000 [00:00<?, ?it/s]"
      ]
     },
     "metadata": {},
     "output_type": "display_data"
    },
    {
     "name": "stdout",
     "output_type": "stream",
     "text": [
      "train accuracy: 87.20787207872078 %\n",
      "test accuracy: 74.39024390243902 %\n"
     ]
    },
    {
     "data": {
      "image/png": "[encoded data removed]",
      "text/plain": [
       "<Figure size 432x288 with 1 Axes>"
      ]
     },
     "metadata": {
      "needs_background": "light"
     },
     "output_type": "display_data"
    }
   ],
   "source": [
    "classifier = LogisticRegression(learning_rate=3e-4, num_iterations=2000, optimizer='Adam')\n",
    "result = classifier.fit_and_evaluate(x_train, y_train, x_test, y_test)\n",
    "\n",
    "plt.title('Adam')\n",
    "plt.plot(result['costs'])\n",
    "plt.ylim(0, 1)\n",
    "plt.grid()\n",
    "plt.show()"
   ]
  },
  {
   "cell_type": "code",
   "execution_count": null,
   "id": "a27de358-f70c-46b1-8215-50b0787c1369",
   "metadata": {},
   "outputs": [],
   "source": []
  }
 ],
 "metadata": {
  "kernelspec": {
   "display_name": "Python 3 (ipykernel)",
   "language": "python",
   "name": "python3"
  },
  "language_info": {
   "codemirror_mode": {
    "name": "ipython",
    "version": 3
   },
   "file_extension": ".py",
   "mimetype": "text/x-python",
   "name": "python",
   "nbconvert_exporter": "python",
   "pygments_lexer": "ipython3",
   "version": "3.9.10"
  }
 },
 "nbformat": 4,
 "nbformat_minor": 5
}
